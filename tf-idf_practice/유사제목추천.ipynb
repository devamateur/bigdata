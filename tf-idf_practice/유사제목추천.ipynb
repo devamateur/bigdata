{
 "cells": [
  {
   "cell_type": "markdown",
   "id": "14c87282",
   "metadata": {},
   "source": [
    "## TF-IDF를 이용해 유사한 제목 추천\n",
    "* 먼저, 유튜브 데이터를 크롤링(후에 Youtube Data api를 이용해 수정)\n",
    "* TF-IDF와 코사인 유사도를 이용해 유사한 제목 출력<br>\n",
    "[유튜브 크롤링](https://heytech.tistory.com/325)<br>\n",
    "[TF-IDF 를 활용한 제목별 추천 시스템](https://acdongpgm.tistory.com/175)"
   ]
  },
  {
   "cell_type": "code",
   "execution_count": 21,
   "id": "d7710b1f",
   "metadata": {},
   "outputs": [],
   "source": [
    "# 유튜브 데이터 크롤링\n",
    "from selenium import webdriver\n",
    "from selenium.webdriver.support.ui import WebDriverWait\n",
    "from selenium.webdriver.support import expected_conditions as EC\n",
    "from selenium.webdriver.common.by import By\n",
    "from selenium.webdriver.common.keys import Keys\n",
    "from webdriver_manager.chrome import ChromeDriverManager\n",
    "from bs4 import BeautifulSoup\n",
    "import time\n",
    "import random\n",
    "import pandas as pd"
   ]
  },
  {
   "cell_type": "code",
   "execution_count": 22,
   "id": "7dedae55",
   "metadata": {},
   "outputs": [
    {
     "name": "stderr",
     "output_type": "stream",
     "text": [
      "\n",
      "\n",
      "====== WebDriver manager ======\n",
      "Current google-chrome version is 101.0.4951\n",
      "Get LATEST chromedriver version for 101.0.4951 google-chrome\n",
      "Driver [C:\\Users\\ing06\\.wdm\\drivers\\chromedriver\\win32\\101.0.4951.41\\chromedriver.exe] found in cache\n"
     ]
    }
   ],
   "source": [
    "# 최신 크롬 드라이버 사용하도록 세팅: 현재 OS에 설치된 크롬 브라우저 버전에 맞게 cache에 드라이버 설치\n",
    "from selenium.webdriver.chrome.service import Service\n",
    "service = Service(ChromeDriverManager().install())"
   ]
  },
  {
   "cell_type": "code",
   "execution_count": 23,
   "id": "94b5e469",
   "metadata": {},
   "outputs": [],
   "source": [
    "# 크롤링 함수\n",
    "def scroll():\n",
    "    try:        \n",
    "        # 페이지 내 스크롤 높이 받아오기\n",
    "        last_page_height = driver.execute_script(\"return document.documentElement.scrollHeight\")\n",
    "        while True:\n",
    "            # 임의의 페이지 로딩 시간 설정\n",
    "            # PC환경에 따라 로딩시간 최적화를 통해 scraping 시간 단축 가능\n",
    "            pause_time = random.uniform(1, 2)\n",
    "            # 페이지 최하단까지 스크롤\n",
    "            driver.execute_script(\"window.scrollTo(0, document.documentElement.scrollHeight);\")\n",
    "            # 페이지 로딩 대기\n",
    "            time.sleep(pause_time)\n",
    "            # 무한 스크롤 동작을 위해 살짝 위로 스크롤(i.e., 페이지를 위로 올렸다가 내리는 제스쳐)\n",
    "            driver.execute_script(\"window.scrollTo(0, document.documentElement.scrollHeight-50)\")\n",
    "            time.sleep(pause_time)\n",
    "            # 페이지 내 스크롤 높이 새롭게 받아오기\n",
    "            new_page_height = driver.execute_script(\"return document.documentElement.scrollHeight\")\n",
    "            # 스크롤을 완료한 경우(더이상 페이지 높이 변화가 없는 경우)\n",
    "            if new_page_height == last_page_height:\n",
    "                print(\"스크롤 완료\")\n",
    "                break\n",
    "                \n",
    "            # 스크롤 완료하지 않은 경우, 최하단까지 스크롤\n",
    "            else:\n",
    "                last_page_height = new_page_height\n",
    "            \n",
    "    except Exception as e:\n",
    "        print(\"에러 발생: \", e)"
   ]
  },
  {
   "cell_type": "code",
   "execution_count": 25,
   "id": "cb6c37b9",
   "metadata": {},
   "outputs": [
    {
     "name": "stdout",
     "output_type": "stream",
     "text": [
      "스크롤 완료\n"
     ]
    }
   ],
   "source": [
    "# 검색 키워드 설정: 키워드 내 띄어쓰기는 URL에서 '+'로 표시되기 때문에 이에 맞게 변환\n",
    "SEARCH_KEYWORD = '동물'.replace(' ', '+')\n",
    "\n",
    "# 드라이버 세팅 및 실행\n",
    "driver = webdriver.Chrome(service=service)\n",
    "# 스크래핑 할 URL 세팅\n",
    "URL = \"https://www.youtube.com/results?search_query=\" + SEARCH_KEYWORD\n",
    "# 크롬 드라이버를 통해 지정한 URL의 웹 페이지 오픈\n",
    "driver.get(URL)\n",
    "# 웹 페이지 로딩 대기\n",
    "time.sleep(3)\n",
    "# 무한 스크롤 함수 실행\n",
    "scroll()"
   ]
  },
  {
   "cell_type": "code",
   "execution_count": 26,
   "id": "a8d00f67",
   "metadata": {},
   "outputs": [],
   "source": [
    "# 페이지 소스 추출\n",
    "html_source = driver.page_source\n",
    "soup_source = BeautifulSoup(html_source, 'html.parser')"
   ]
  },
  {
   "cell_type": "code",
   "execution_count": 27,
   "id": "9192c1b0",
   "metadata": {},
   "outputs": [],
   "source": [
    "# 데이터 추출\n",
    "# 모든 콘텐츠 정보\n",
    "contents = soup_source.find_all(class_ = 'yt-simple-endpoint style-scope ytd-video-renderer')\n",
    "# 콘텐츠 제목만 추출(beautifulsoup의 get_text() 이용)\n",
    "contents_title = list(map(lambda data: data.get_text().replace(\"\\n\", \"\"), contents))\n",
    "# 콘텐츠 링크만 추출\n",
    "contents_link = list(map(lambda data: \"https://youtube.com\" + data[\"href\"], contents))\n",
    "# 제목, 링크를 딕셔너리 형태로\n",
    "contents_dict = {'title' : contents_title, 'link': contents_link}"
   ]
  },
  {
   "cell_type": "code",
   "execution_count": 28,
   "id": "18f1f01e",
   "metadata": {},
   "outputs": [
    {
     "data": {
      "text/html": [
       "<div>\n",
       "<style scoped>\n",
       "    .dataframe tbody tr th:only-of-type {\n",
       "        vertical-align: middle;\n",
       "    }\n",
       "\n",
       "    .dataframe tbody tr th {\n",
       "        vertical-align: top;\n",
       "    }\n",
       "\n",
       "    .dataframe thead th {\n",
       "        text-align: right;\n",
       "    }\n",
       "</style>\n",
       "<table border=\"1\" class=\"dataframe\">\n",
       "  <thead>\n",
       "    <tr style=\"text-align: right;\">\n",
       "      <th></th>\n",
       "      <th>title</th>\n",
       "      <th>link</th>\n",
       "    </tr>\n",
       "  </thead>\n",
       "  <tbody>\n",
       "    <tr>\n",
       "      <th>0</th>\n",
       "      <td>상어, 기린, 호랑이, 고릴라, 낙타는 영어로?ㅣ영어 배우기ㅣ위키와 동물언어_영어ㅣ...</td>\n",
       "      <td>https://youtube.com/watch?v=HRd98hTZb-U</td>\n",
       "    </tr>\n",
       "    <tr>\n",
       "      <th>1</th>\n",
       "      <td>절대로 부활하면 안 되는 멸종 동물!</td>\n",
       "      <td>https://youtube.com/watch?v=c20uGI5Mmvs</td>\n",
       "    </tr>\n",
       "    <tr>\n",
       "      <th>2</th>\n",
       "      <td>심쿵 아기동물 성장기 #OfftheFence #KBS #동물의왕국 (KBS1 202...</td>\n",
       "      <td>https://youtube.com/watch?v=p_wTEHPGAGI</td>\n",
       "    </tr>\n",
       "    <tr>\n",
       "      <th>3</th>\n",
       "      <td>본격 귀여움 참기 챌린지! 역대급 심장 폭행범 ‘꼬물이들.zip’ I TV동물농장 ...</td>\n",
       "      <td>https://youtube.com/watch?v=c9cYIGqdcvA</td>\n",
       "    </tr>\n",
       "    <tr>\n",
       "      <th>4</th>\n",
       "      <td>귀엽고 신기한 동물들을 만나봤어요! 동물편 모음 40분 자연 학습 체험</td>\n",
       "      <td>https://youtube.com/watch?v=VotU3AUcMuk</td>\n",
       "    </tr>\n",
       "    <tr>\n",
       "      <th>...</th>\n",
       "      <td>...</td>\n",
       "      <td>...</td>\n",
       "    </tr>\n",
       "    <tr>\n",
       "      <th>774</th>\n",
       "      <td>To Rombi Episode 45: Zombie combine with S.W.A...</td>\n",
       "      <td>https://youtube.com/watch?v=-pT0DbboyMc</td>\n",
       "    </tr>\n",
       "    <tr>\n",
       "      <th>775</th>\n",
       "      <td>It is believed that cats are afraid of water  ...</td>\n",
       "      <td>https://youtube.com/watch?v=ENg56WXqjRk</td>\n",
       "    </tr>\n",
       "    <tr>\n",
       "      <th>776</th>\n",
       "      <td>【대식】모츠 조림 정식의 라이스×10으로 해 본 결과…【몬 요시】</td>\n",
       "      <td>https://youtube.com/watch?v=4NKx6qF_yMc</td>\n",
       "    </tr>\n",
       "    <tr>\n",
       "      <th>777</th>\n",
       "      <td>KRISIS DUA BINATANG ROH TERKUAT DA MING DAN ER...</td>\n",
       "      <td>https://youtube.com/watch?v=j7QVk1vxnWM</td>\n",
       "    </tr>\n",
       "    <tr>\n",
       "      <th>778</th>\n",
       "      <td>Mancing di Danau Lido, Warga Dapat Ikan Patin ...</td>\n",
       "      <td>https://youtube.com/watch?v=D3P4xFuRdIE</td>\n",
       "    </tr>\n",
       "  </tbody>\n",
       "</table>\n",
       "<p>779 rows × 2 columns</p>\n",
       "</div>"
      ],
      "text/plain": [
       "                                                 title  \\\n",
       "0    상어, 기린, 호랑이, 고릴라, 낙타는 영어로?ㅣ영어 배우기ㅣ위키와 동물언어_영어ㅣ...   \n",
       "1                                 절대로 부활하면 안 되는 멸종 동물!   \n",
       "2    심쿵 아기동물 성장기 #OfftheFence #KBS #동물의왕국 (KBS1 202...   \n",
       "3    본격 귀여움 참기 챌린지! 역대급 심장 폭행범 ‘꼬물이들.zip’ I TV동물농장 ...   \n",
       "4              귀엽고 신기한 동물들을 만나봤어요! 동물편 모음 40분 자연 학습 체험   \n",
       "..                                                 ...   \n",
       "774  To Rombi Episode 45: Zombie combine with S.W.A...   \n",
       "775  It is believed that cats are afraid of water  ...   \n",
       "776               【대식】모츠 조림 정식의 라이스×10으로 해 본 결과…【몬 요시】   \n",
       "777  KRISIS DUA BINATANG ROH TERKUAT DA MING DAN ER...   \n",
       "778  Mancing di Danau Lido, Warga Dapat Ikan Patin ...   \n",
       "\n",
       "                                        link  \n",
       "0    https://youtube.com/watch?v=HRd98hTZb-U  \n",
       "1    https://youtube.com/watch?v=c20uGI5Mmvs  \n",
       "2    https://youtube.com/watch?v=p_wTEHPGAGI  \n",
       "3    https://youtube.com/watch?v=c9cYIGqdcvA  \n",
       "4    https://youtube.com/watch?v=VotU3AUcMuk  \n",
       "..                                       ...  \n",
       "774  https://youtube.com/watch?v=-pT0DbboyMc  \n",
       "775  https://youtube.com/watch?v=ENg56WXqjRk  \n",
       "776  https://youtube.com/watch?v=4NKx6qF_yMc  \n",
       "777  https://youtube.com/watch?v=j7QVk1vxnWM  \n",
       "778  https://youtube.com/watch?v=D3P4xFuRdIE  \n",
       "\n",
       "[779 rows x 2 columns]"
      ]
     },
     "execution_count": 28,
     "metadata": {},
     "output_type": "execute_result"
    }
   ],
   "source": [
    "# 데이터프레임으로\n",
    "df_contents = pd.DataFrame(contents_dict)\n",
    "df_contents"
   ]
  },
  {
   "cell_type": "code",
   "execution_count": 29,
   "id": "a6d2784b",
   "metadata": {},
   "outputs": [],
   "source": [
    "# 데이터 저장\n",
    "df_contents.to_csv(\"animals_crawling.csv\", encoding='utf-8-sig')"
   ]
  },
  {
   "cell_type": "code",
   "execution_count": 30,
   "id": "101138f6",
   "metadata": {},
   "outputs": [],
   "source": [
    "# tf-idf로 유사 제목 추천\n",
    "import numpy as np\n",
    "from sklearn.feature_extraction.text import TfidfVectorizer\n",
    "from sklearn.metrics.pairwise import cosine_similarity"
   ]
  },
  {
   "cell_type": "code",
   "execution_count": 31,
   "id": "b44fb3fb",
   "metadata": {},
   "outputs": [
    {
     "name": "stdout",
     "output_type": "stream",
     "text": [
      "(779, 3974)\n"
     ]
    }
   ],
   "source": [
    "tfidf = TfidfVectorizer(stop_words='english')  # 불용어는 일단 영어로 지정..\n",
    "tfidf_matrix = tfidf.fit_transform(df_contents['title'])\n",
    "print(tfidf_matrix.shape)  # (743, 3691), 3691은 743개의 제목에 있는 단어들을 분리한 개수"
   ]
  },
  {
   "cell_type": "code",
   "execution_count": 32,
   "id": "199e9143",
   "metadata": {},
   "outputs": [
    {
     "name": "stdout",
     "output_type": "stream",
     "text": [
      "[[1.         0.         0.03985572 ... 0.         0.         0.        ]\n",
      " [0.         1.         0.         ... 0.         0.         0.        ]\n",
      " [0.03985572 0.         1.         ... 0.         0.         0.        ]\n",
      " ...\n",
      " [0.         0.         0.         ... 1.         0.         0.        ]\n",
      " [0.         0.         0.         ... 0.         1.         0.        ]\n",
      " [0.         0.         0.         ... 0.         0.         1.        ]]\n"
     ]
    }
   ],
   "source": [
    "# 코사인 유사도로 행렬과 행렬 간의 유사도 비교\n",
    "cosine_matrix = cosine_similarity(tfidf_matrix, tfidf_matrix)\n",
    "cosine_matrix.shape\n",
    "print(cosine_matrix)"
   ]
  },
  {
   "cell_type": "code",
   "execution_count": 33,
   "id": "3b4628df",
   "metadata": {},
   "outputs": [],
   "source": [
    "# title과 id를 매핑할 dictinary\n",
    "title2idx = {}\n",
    "for i, c in enumerate(df_contents['title']): \n",
    "    title2idx[i] = c\n",
    "\n",
    "# id와 title를 매핑할 dictionary\n",
    "idx2title = {}\n",
    "for i, c in title2idx.items(): \n",
    "    idx2title[c] = i"
   ]
  },
  {
   "cell_type": "code",
   "execution_count": 35,
   "id": "1bd2a5ff",
   "metadata": {},
   "outputs": [
    {
     "data": {
      "text/plain": [
       "[(214, 0.24004916281888936),\n",
       " (63, 0.1561699465538434),\n",
       " (238, 0.14311138130518267),\n",
       " (80, 0.08564214439759417),\n",
       " (505, 0.0808179334528569),\n",
       " (577, 0.08030556502487728),\n",
       " (148, 0.08015430924465278),\n",
       " (225, 0.07974748587196744),\n",
       " (544, 0.07831085678674914),\n",
       " (582, 0.07027682671185677)]"
      ]
     },
     "execution_count": 35,
     "metadata": {},
     "output_type": "execute_result"
    }
   ],
   "source": [
    "# title을 넣어 해당 항목과 유사한 상위 10개 추출\n",
    "idx = idx2title['절대로 부활하면 안 되는 멸종 동물!']\n",
    "sim_scores = [(i, c) for i, c in enumerate(cosine_matrix[idx]) if i != idx] # 자기 자신을 제외한 영화들의 유사도 및 인덱스를 추출 \n",
    "sim_scores = sorted(sim_scores, key = lambda x: x[1], reverse=True) # 유사도가 높은 순서대로 정렬 \n",
    "sim_scores[0:10] # 상위 10개의 인덱스와 유사도를 추출 "
   ]
  },
  {
   "cell_type": "code",
   "execution_count": 36,
   "id": "ffb55fb3",
   "metadata": {},
   "outputs": [
    {
     "data": {
      "text/plain": [
       "[('한 평생 구애만 하다 죽게 되는 동물', 0.24004916281888936),\n",
       " ('🌏동물 친구들과 지구를 보호해요! | 🦁멸종 위기 동물, 동물활동가, 분리수거송 | Save the Earth | 환경보호 | 동물동요 | 환경동요 | 주니토니 | JunyTony',\n",
       "  0.1561699465538434),\n",
       " ('멸종 위기 동물을 보호해요 | 🌏지구가 아프대! 🐼동물 친구들이 위험해! | 동물동요 | 초록초록 지구 | 환경동요 | 주니토니 | JunyTony',\n",
       "  0.14311138130518267),\n",
       " ('한국어ㅣ위기에 빠진 동물 구출하기 6! 어린이 동물 만화,  동물 이름 외우기ㅣ꼬꼬스토이', 0.08564214439759417),\n",
       " ('진흙에 빠진 숲속 동물 구하기ㅣ어린이 동물 동화,  동물 만화ㅣ꼬꼬스토이', 0.0808179334528569),\n",
       " ('말썽꾸러기 곰과 숲속 동물 친구들ㅣ어린이 동물 만화, 동물 동화ㅣ꼬꼬스토이', 0.08030556502487728),\n",
       " ('위기에 빠진 동물 구출하기 7! 어린이 동물 만화,  동물 이름 외우기, 컬렉타피규어ㅣ꼬꼬스토이',\n",
       "  0.08015430924465278),\n",
       " ('한국어ㅣ아빠에게 선물받은 동물 장난감 컬렉션!, 어린이 동물 만화, 동물 이름 외우기ㅣ꼬꼬스토이',\n",
       "  0.07974748587196744),\n",
       " ('동물 수송 트럭 농장 동물!', 0.07831085678674914),\n",
       " ('🐙문어 의사 선생님 | 동물 동요 | 바닷속 동물 병원 | 똑똑한 바다 동물 | 꼬마공룡 코코비',\n",
       "  0.07027682671185677)]"
      ]
     },
     "execution_count": 36,
     "metadata": {},
     "output_type": "execute_result"
    }
   ],
   "source": [
    "# 인덱스를 다시 제목으로\n",
    "sim_scores = [(title2idx[i], score) for i, score in sim_scores[0:10]]\n",
    "sim_scores"
   ]
  },
  {
   "cell_type": "code",
   "execution_count": null,
   "id": "8a582902",
   "metadata": {},
   "outputs": [],
   "source": []
  }
 ],
 "metadata": {
  "kernelspec": {
   "display_name": "Python 3 (ipykernel)",
   "language": "python",
   "name": "python3"
  },
  "language_info": {
   "codemirror_mode": {
    "name": "ipython",
    "version": 3
   },
   "file_extension": ".py",
   "mimetype": "text/x-python",
   "name": "python",
   "nbconvert_exporter": "python",
   "pygments_lexer": "ipython3",
   "version": "3.9.7"
  }
 },
 "nbformat": 4,
 "nbformat_minor": 5
}
